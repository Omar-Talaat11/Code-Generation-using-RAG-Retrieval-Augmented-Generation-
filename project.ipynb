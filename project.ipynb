{
 "cells": [
  {
   "cell_type": "markdown",
   "id": "3764e7c8",
   "metadata": {},
   "source": [
    "## Code Generation using RAG (Retrieval-Augmented Generation) Project"
   ]
  },
  {
   "cell_type": "markdown",
   "id": "4772ff36",
   "metadata": {},
   "source": [
    "1- Dataset Preparation"
   ]
  },
  {
   "cell_type": "code",
   "execution_count": 34,
   "id": "19eb8b21",
   "metadata": {},
   "outputs": [],
   "source": [
    "import pandas as pd\n",
    "\n",
    "# Load and process the HumanEval dataset.\n",
    "# Extract task_id, prompt, and canonical_solution fields.\n",
    "df = pd.read_parquet(\"hf://datasets/openai/openai_humaneval/openai_humaneval/test-00000-of-00001.parquet\")[['task_id','prompt', 'canonical_solution']]"
   ]
  },
  {
   "cell_type": "code",
   "execution_count": 35,
   "id": "19177a14",
   "metadata": {},
   "outputs": [
    {
     "data": {
      "text/html": [
       "<div>\n",
       "<style scoped>\n",
       "    .dataframe tbody tr th:only-of-type {\n",
       "        vertical-align: middle;\n",
       "    }\n",
       "\n",
       "    .dataframe tbody tr th {\n",
       "        vertical-align: top;\n",
       "    }\n",
       "\n",
       "    .dataframe thead th {\n",
       "        text-align: right;\n",
       "    }\n",
       "</style>\n",
       "<table border=\"1\" class=\"dataframe\">\n",
       "  <thead>\n",
       "    <tr style=\"text-align: right;\">\n",
       "      <th></th>\n",
       "      <th>task_id</th>\n",
       "      <th>prompt</th>\n",
       "      <th>canonical_solution</th>\n",
       "    </tr>\n",
       "  </thead>\n",
       "  <tbody>\n",
       "    <tr>\n",
       "      <th>0</th>\n",
       "      <td>HumanEval/0</td>\n",
       "      <td>from typing import List\\n\\n\\ndef has_close_ele...</td>\n",
       "      <td>for idx, elem in enumerate(numbers):\\n    ...</td>\n",
       "    </tr>\n",
       "    <tr>\n",
       "      <th>1</th>\n",
       "      <td>HumanEval/1</td>\n",
       "      <td>from typing import List\\n\\n\\ndef separate_pare...</td>\n",
       "      <td>result = []\\n    current_string = []\\n    ...</td>\n",
       "    </tr>\n",
       "    <tr>\n",
       "      <th>2</th>\n",
       "      <td>HumanEval/2</td>\n",
       "      <td>\\n\\ndef truncate_number(number: float) -&gt; floa...</td>\n",
       "      <td>return number % 1.0\\n</td>\n",
       "    </tr>\n",
       "    <tr>\n",
       "      <th>3</th>\n",
       "      <td>HumanEval/3</td>\n",
       "      <td>from typing import List\\n\\n\\ndef below_zero(op...</td>\n",
       "      <td>balance = 0\\n\\n    for op in operations:\\n...</td>\n",
       "    </tr>\n",
       "    <tr>\n",
       "      <th>4</th>\n",
       "      <td>HumanEval/4</td>\n",
       "      <td>from typing import List\\n\\n\\ndef mean_absolute...</td>\n",
       "      <td>mean = sum(numbers) / len(numbers)\\n    re...</td>\n",
       "    </tr>\n",
       "  </tbody>\n",
       "</table>\n",
       "</div>"
      ],
      "text/plain": [
       "       task_id                                             prompt  \\\n",
       "0  HumanEval/0  from typing import List\\n\\n\\ndef has_close_ele...   \n",
       "1  HumanEval/1  from typing import List\\n\\n\\ndef separate_pare...   \n",
       "2  HumanEval/2  \\n\\ndef truncate_number(number: float) -> floa...   \n",
       "3  HumanEval/3  from typing import List\\n\\n\\ndef below_zero(op...   \n",
       "4  HumanEval/4  from typing import List\\n\\n\\ndef mean_absolute...   \n",
       "\n",
       "                                  canonical_solution  \n",
       "0      for idx, elem in enumerate(numbers):\\n    ...  \n",
       "1      result = []\\n    current_string = []\\n    ...  \n",
       "2                              return number % 1.0\\n  \n",
       "3      balance = 0\\n\\n    for op in operations:\\n...  \n",
       "4      mean = sum(numbers) / len(numbers)\\n    re...  "
      ]
     },
     "execution_count": 35,
     "metadata": {},
     "output_type": "execute_result"
    }
   ],
   "source": [
    "# Examine data\n",
    "df.head()\n"
   ]
  },
  {
   "cell_type": "code",
   "execution_count": 36,
   "id": "0567f591",
   "metadata": {},
   "outputs": [
    {
     "name": "stdout",
     "output_type": "stream",
     "text": [
      "<class 'pandas.core.frame.DataFrame'>\n",
      "RangeIndex: 164 entries, 0 to 163\n",
      "Data columns (total 3 columns):\n",
      " #   Column              Non-Null Count  Dtype \n",
      "---  ------              --------------  ----- \n",
      " 0   task_id             164 non-null    object\n",
      " 1   prompt              164 non-null    object\n",
      " 2   canonical_solution  164 non-null    object\n",
      "dtypes: object(3)\n",
      "memory usage: 4.0+ KB\n",
      "None\n"
     ]
    }
   ],
   "source": [
    "print(df.info())"
   ]
  },
  {
   "cell_type": "markdown",
   "id": "7853feff",
   "metadata": {},
   "source": [
    "2- Embedding Pipeline"
   ]
  },
  {
   "cell_type": "code",
   "execution_count": 37,
   "id": "b4d58e71",
   "metadata": {},
   "outputs": [
    {
     "name": "stderr",
     "output_type": "stream",
     "text": [
      "Batches:   0%|          | 0/6 [00:00<?, ?it/s]c:\\Users\\Dell\\AppData\\Local\\Programs\\Python\\Python311\\Lib\\site-packages\\torch\\nn\\modules\\module.py:1747: FutureWarning: `encoder_attention_mask` is deprecated and will be removed in version 4.55.0 for `BertSdpaSelfAttention.forward`.\n",
      "  return forward_call(*args, **kwargs)\n",
      "Batches: 100%|██████████| 6/6 [00:06<00:00,  1.03s/it]\n"
     ]
    }
   ],
   "source": [
    "# Use an open-source LLM to embed the prompt fields using BAAI/bge-large-en-v1.5\n",
    "# BAAI/bge-large-en-v1.5 is state of the art in english test embedding\n",
    "from sentence_transformers import SentenceTransformer   \n",
    "\n",
    "embedding_model = SentenceTransformer(\"BAAI/bge-large-en-v1.5\").to('cuda')\n",
    "\n",
    "embeddings = embedding_model.encode(\n",
    "    df[\"prompt\"].tolist(),\n",
    "    batch_size=32,                          # You can tune this (e.g., 16/64 depending on GPU memory)\n",
    "    show_progress_bar=True,                # Optional, shows a progress bar\n",
    "    normalize_embeddings=True,\n",
    "    device='cuda'                          # Forces encoding on GPU\n",
    ")"
   ]
  },
  {
   "cell_type": "code",
   "execution_count": 38,
   "id": "8812d623",
   "metadata": {},
   "outputs": [
    {
     "ename": "InternalError",
     "evalue": "Collection [my_rag_collection] already exists",
     "output_type": "error",
     "traceback": [
      "\u001b[31m---------------------------------------------------------------------------\u001b[39m",
      "\u001b[31mInternalError\u001b[39m                             Traceback (most recent call last)",
      "\u001b[36mCell\u001b[39m\u001b[36m \u001b[39m\u001b[32mIn[38]\u001b[39m\u001b[32m, line 5\u001b[39m\n\u001b[32m      1\u001b[39m \u001b[38;5;66;03m# Create a collection to store documents and embeddings using Chroma DB\u001b[39;00m\n\u001b[32m      2\u001b[39m \u001b[38;5;66;03m# Chroma DB is the best for small to mid-scale RAG\u001b[39;00m\n\u001b[32m      3\u001b[39m \u001b[38;5;28;01mimport\u001b[39;00m\u001b[38;5;250m \u001b[39m\u001b[34;01mchromadb\u001b[39;00m\n\u001b[32m----> \u001b[39m\u001b[32m5\u001b[39m collection = \u001b[43mchromadb\u001b[49m\u001b[43m.\u001b[49m\u001b[43mClient\u001b[49m\u001b[43m(\u001b[49m\u001b[43m)\u001b[49m\u001b[43m.\u001b[49m\u001b[43mcreate_collection\u001b[49m\u001b[43m(\u001b[49m\u001b[43mname\u001b[49m\u001b[43m=\u001b[49m\u001b[33;43m\"\u001b[39;49m\u001b[33;43mmy_rag_collection\u001b[39;49m\u001b[33;43m\"\u001b[39;49m\u001b[43m)\u001b[49m\n",
      "\u001b[36mFile \u001b[39m\u001b[32mc:\\Users\\Dell\\AppData\\Local\\Programs\\Python\\Python311\\Lib\\site-packages\\chromadb\\api\\client.py:168\u001b[39m, in \u001b[36mClient.create_collection\u001b[39m\u001b[34m(self, name, configuration, metadata, embedding_function, data_loader, get_or_create)\u001b[39m\n\u001b[32m    165\u001b[39m \u001b[38;5;28;01mif\u001b[39;00m embedding_function \u001b[38;5;129;01mis\u001b[39;00m \u001b[38;5;129;01mnot\u001b[39;00m \u001b[38;5;28;01mNone\u001b[39;00m \u001b[38;5;129;01mand\u001b[39;00m configuration_ef \u001b[38;5;129;01mis\u001b[39;00m \u001b[38;5;28;01mNone\u001b[39;00m:\n\u001b[32m    166\u001b[39m     configuration[\u001b[33m\"\u001b[39m\u001b[33membedding_function\u001b[39m\u001b[33m\"\u001b[39m] = embedding_function\n\u001b[32m--> \u001b[39m\u001b[32m168\u001b[39m model = \u001b[38;5;28;43mself\u001b[39;49m\u001b[43m.\u001b[49m\u001b[43m_server\u001b[49m\u001b[43m.\u001b[49m\u001b[43mcreate_collection\u001b[49m\u001b[43m(\u001b[49m\n\u001b[32m    169\u001b[39m \u001b[43m    \u001b[49m\u001b[43mname\u001b[49m\u001b[43m=\u001b[49m\u001b[43mname\u001b[49m\u001b[43m,\u001b[49m\n\u001b[32m    170\u001b[39m \u001b[43m    \u001b[49m\u001b[43mmetadata\u001b[49m\u001b[43m=\u001b[49m\u001b[43mmetadata\u001b[49m\u001b[43m,\u001b[49m\n\u001b[32m    171\u001b[39m \u001b[43m    \u001b[49m\u001b[43mtenant\u001b[49m\u001b[43m=\u001b[49m\u001b[38;5;28;43mself\u001b[39;49m\u001b[43m.\u001b[49m\u001b[43mtenant\u001b[49m\u001b[43m,\u001b[49m\n\u001b[32m    172\u001b[39m \u001b[43m    \u001b[49m\u001b[43mdatabase\u001b[49m\u001b[43m=\u001b[49m\u001b[38;5;28;43mself\u001b[39;49m\u001b[43m.\u001b[49m\u001b[43mdatabase\u001b[49m\u001b[43m,\u001b[49m\n\u001b[32m    173\u001b[39m \u001b[43m    \u001b[49m\u001b[43mget_or_create\u001b[49m\u001b[43m=\u001b[49m\u001b[43mget_or_create\u001b[49m\u001b[43m,\u001b[49m\n\u001b[32m    174\u001b[39m \u001b[43m    \u001b[49m\u001b[43mconfiguration\u001b[49m\u001b[43m=\u001b[49m\u001b[43mconfiguration\u001b[49m\u001b[43m,\u001b[49m\n\u001b[32m    175\u001b[39m \u001b[43m\u001b[49m\u001b[43m)\u001b[49m\n\u001b[32m    176\u001b[39m \u001b[38;5;28;01mreturn\u001b[39;00m Collection(\n\u001b[32m    177\u001b[39m     client=\u001b[38;5;28mself\u001b[39m._server,\n\u001b[32m    178\u001b[39m     model=model,\n\u001b[32m    179\u001b[39m     embedding_function=embedding_function,\n\u001b[32m    180\u001b[39m     data_loader=data_loader,\n\u001b[32m    181\u001b[39m )\n",
      "\u001b[36mFile \u001b[39m\u001b[32mc:\\Users\\Dell\\AppData\\Local\\Programs\\Python\\Python311\\Lib\\site-packages\\chromadb\\api\\rust.py:227\u001b[39m, in \u001b[36mRustBindingsAPI.create_collection\u001b[39m\u001b[34m(self, name, configuration, metadata, get_or_create, tenant, database)\u001b[39m\n\u001b[32m    224\u001b[39m \u001b[38;5;28;01melse\u001b[39;00m:\n\u001b[32m    225\u001b[39m     configuration_json_str = \u001b[38;5;28;01mNone\u001b[39;00m\n\u001b[32m--> \u001b[39m\u001b[32m227\u001b[39m collection = \u001b[38;5;28;43mself\u001b[39;49m\u001b[43m.\u001b[49m\u001b[43mbindings\u001b[49m\u001b[43m.\u001b[49m\u001b[43mcreate_collection\u001b[49m\u001b[43m(\u001b[49m\n\u001b[32m    228\u001b[39m \u001b[43m    \u001b[49m\u001b[43mname\u001b[49m\u001b[43m,\u001b[49m\u001b[43m \u001b[49m\u001b[43mconfiguration_json_str\u001b[49m\u001b[43m,\u001b[49m\u001b[43m \u001b[49m\u001b[43mmetadata\u001b[49m\u001b[43m,\u001b[49m\u001b[43m \u001b[49m\u001b[43mget_or_create\u001b[49m\u001b[43m,\u001b[49m\u001b[43m \u001b[49m\u001b[43mtenant\u001b[49m\u001b[43m,\u001b[49m\u001b[43m \u001b[49m\u001b[43mdatabase\u001b[49m\n\u001b[32m    229\u001b[39m \u001b[43m\u001b[49m\u001b[43m)\u001b[49m\n\u001b[32m    230\u001b[39m collection_model = CollectionModel(\n\u001b[32m    231\u001b[39m     \u001b[38;5;28mid\u001b[39m=collection.id,\n\u001b[32m    232\u001b[39m     name=collection.name,\n\u001b[32m   (...)\u001b[39m\u001b[32m    237\u001b[39m     database=collection.database,\n\u001b[32m    238\u001b[39m )\n\u001b[32m    239\u001b[39m \u001b[38;5;28;01mreturn\u001b[39;00m collection_model\n",
      "\u001b[31mInternalError\u001b[39m: Collection [my_rag_collection] already exists"
     ]
    }
   ],
   "source": [
    "# Create a collection to store documents and embeddings using Chroma DB\n",
    "# Chroma DB is the best for small to mid-scale RAG\n",
    "import chromadb\n",
    "\n",
    "collection = chromadb.Client().create_collection(name=\"my_rag_collection\")"
   ]
  },
  {
   "cell_type": "code",
   "execution_count": null,
   "id": "fc916931",
   "metadata": {},
   "outputs": [],
   "source": [
    "metadata = df[[\"prompt\", \"canonical_solution\"]].to_dict(\"records\")\n",
    "\n",
    "collection.add(\n",
    "    ids = df[\"task_id\"].astype(str).tolist(),\n",
    "    # documents = df[\"prompt\"].tolist(),\n",
    "    metadatas = metadata,\n",
    "    embeddings = embeddings\n",
    ")"
   ]
  },
  {
   "cell_type": "markdown",
   "id": "7a3afacc",
   "metadata": {},
   "source": [
    "3- Retrieval Engine"
   ]
  },
  {
   "cell_type": "code",
   "execution_count": null,
   "id": "fd790c98",
   "metadata": {},
   "outputs": [],
   "source": [
    "def retrieve_nearest(query,k):\n",
    "    query_embedded = embedding_model.encode([query], normalize_embeddings=True, device='cuda')\n",
    "    result = collection.query(\n",
    "        query_embeddings=query_embedded,\n",
    "        n_results=k\n",
    "    )\n",
    "    return {\n",
    "        \"ids\": result[\"ids\"][0],\n",
    "        \"metadatas\" : result[\"metadatas\"][0],\n",
    "    } # Return the 'k' ids and solutions in a list format"
   ]
  },
  {
   "cell_type": "code",
   "execution_count": null,
   "id": "5bc1e767",
   "metadata": {},
   "outputs": [],
   "source": [
    "# Test Retrieval Engine\n",
    "results = retrieve_nearest(df[\"prompt\"][0],3)\n",
    "# print (results[\"metadatas\"][0][\"prompt\"])\n",
    "for id in results[\"ids\"]:\n",
    "    print(f'{id}')\n"
   ]
  },
  {
   "cell_type": "markdown",
   "id": "dcb60b00",
   "metadata": {},
   "source": [
    "4- Code Generator using deepseek-chat-v3 from openrouter.ai"
   ]
  },
  {
   "cell_type": "code",
   "execution_count": null,
   "id": "b3934301",
   "metadata": {},
   "outputs": [],
   "source": [
    "# Use an open-source code generation model with coding knowledge to generate Python code using the prompt and retrieved code snippets as context.\n",
    "import requests\n",
    "\n",
    "key = \"OPENROUTER_API_KEY\"\n",
    "\n",
    "def generate_code(query, retrieved_chunks):\n",
    "    API_URL = \"https://openrouter.ai/api/v1/chat/completions\"\n",
    "    headers = {\n",
    "        \"Authorization\": f\"Bearer {key}\", \n",
    "        \"Content-Type\": \"application/json\"\n",
    "    }\n",
    "\n",
    "    # Combine retrieved chunks into a single string\n",
    "    # context = \"\\n\\n\".join(retrieved_chunks[\"prompt\"])\n",
    "    \n",
    "    context = \"\"\n",
    "    for entry in retrieved_chunks[\"metadatas\"]:\n",
    "        context = context + \"\\n\\n[Prompt]\\n\" + entry[\"prompt\"] + \"\\n[Solution\\n\" + entry[\"canonical_solution\"]\n",
    "    # Format RAG-style prompt\n",
    "    prompt = f\"\"\"You are a helpful coding assistant.\n",
    "\n",
    "Respond only with python code with no description or additional text.\n",
    "Use the following retrieved context to answer the user's question.\n",
    "The Context consists of a prompt and an answer\n",
    "\n",
    "[Context]\n",
    "{context}\n",
    "\n",
    "[User Question]\n",
    "{query}\n",
    "\"\"\"\n",
    "\n",
    "    data = {\n",
    "        \"model\": \"deepseek/deepseek-chat-v3-0324:free\",\n",
    "        \"messages\": [\n",
    "            {\n",
    "                \"role\": \"user\",\n",
    "                \"content\": prompt\n",
    "            }\n",
    "        ],\n",
    "        \"temperature\": 0.2,\n",
    "        \"max_tokens\": 500  \n",
    "    }\n",
    "\n",
    "    # response = requests.post(API_URL, headers=headers, json=data)\n",
    "    count = 0\n",
    "    while(True):\n",
    "        try:\n",
    "            count+=1\n",
    "            response = requests.post(API_URL, headers=headers, json=data)\n",
    "            return response.json()[\"choices\"][0][\"message\"][\"content\"]\n",
    "        except:\n",
    "            if(count==5):\n",
    "                break\n",
    "            print(response.json())\n"
   ]
  },
  {
   "cell_type": "code",
   "execution_count": null,
   "id": "a896cdde",
   "metadata": {},
   "outputs": [],
   "source": [
    "# Test Code generator\n",
    "query = df[\"prompt\"][0]\n",
    "context = retrieve_nearest(query,3)\n",
    "result = generate_code(query,context)\n",
    "print(result)"
   ]
  },
  {
   "cell_type": "markdown",
   "id": "253bae1e",
   "metadata": {},
   "source": [
    "5- Integration"
   ]
  },
  {
   "cell_type": "code",
   "execution_count": null,
   "id": "9485c84e",
   "metadata": {},
   "outputs": [],
   "source": [
    "# Combine embedding, retrieval, and generation into a clean modular pipeline.\n",
    "# Accept a prompt ➝ retrieve similar examples ➝ generate and return new code.\n",
    "\n",
    "def RAG_pipeline(k_examples,user_input = False,prompt=\"\"):\n",
    "    if(user_input == True):\n",
    "        query = input(\"Please Enter your query\")        # Accept a prompt\n",
    "    else:\n",
    "        query = prompt\n",
    "    context = retrieve_nearest(query,k_examples)        # Retrieve similar examples\n",
    "    result = generate_code(query,context)                 # Generate and return new code.\n",
    "    return result"
   ]
  },
  {
   "cell_type": "code",
   "execution_count": null,
   "id": "fdeeeaba",
   "metadata": {},
   "outputs": [],
   "source": [
    "print(df[\"prompt\"][0])"
   ]
  },
  {
   "cell_type": "code",
   "execution_count": null,
   "id": "f0c1322a",
   "metadata": {},
   "outputs": [],
   "source": [
    "# Test Integration pipeline\n",
    "result = RAG_pipeline(3,True)\n",
    "print(result)"
   ]
  },
  {
   "cell_type": "markdown",
   "id": "d0b68837",
   "metadata": {},
   "source": [
    "6- Evaluate Performance using BERTScore"
   ]
  },
  {
   "cell_type": "code",
   "execution_count": null,
   "id": "9c5a4349",
   "metadata": {},
   "outputs": [],
   "source": [
    "# Testing data\n",
    "\n",
    "data = [\n",
    "    {\n",
    "        \"prompt\": '''def is_palindrome_number(n: int) -> bool:\n",
    "    \"\"\"\n",
    "    Return True if the integer n is a palindrome number (reads the same forward and backward).\n",
    "    A negative number is not considered a palindrome.\n",
    "    \"\"\"''',\n",
    "        \"canonical_solution\": '''def is_palindrome_number(n: int) -> bool:\n",
    "    if n < 0:\n",
    "        return False\n",
    "    return str(n) == str(n)[::-1]'''\n",
    "    },\n",
    "    {\n",
    "        \"prompt\": '''def count_substring(s: str, sub: str) -> int:\n",
    "    \"\"\"\n",
    "    Return the number of non-overlapping occurrences of substring sub in string s.\n",
    "    \"\"\"''',\n",
    "        \"canonical_solution\": '''def count_substring(s: str, sub: str) -> int:\n",
    "    return s.count(sub)'''\n",
    "    },\n",
    "    {\n",
    "        \"prompt\": '''def filter_non_negative(numbers: List[float]) -> List[float]:\n",
    "    \"\"\"\n",
    "    Given a list of numbers, return a new list containing only the non-negative values.\n",
    "    \"\"\"''',\n",
    "        \"canonical_solution\": '''def filter_non_negative(numbers: List[float]) -> List[float]:\n",
    "    return [x for x in numbers if x >= 0]'''\n",
    "    },\n",
    "    {\n",
    "        \"prompt\": '''def average_word_length(text: str) -> float:\n",
    "    \"\"\"\n",
    "    Return the average word length in the input string.\n",
    "    Words are separated by spaces. If there are no words, return 0.0.\n",
    "    \"\"\"''',\n",
    "        \"canonical_solution\": '''def average_word_length(text: str) -> float:\n",
    "    words = text.split()\n",
    "    if not words:\n",
    "        return 0.0\n",
    "    return sum(len(word) for word in words) / len(words)'''\n",
    "    },\n",
    "    {\n",
    "        \"prompt\": '''def unique_sorted(items: List[int]) -> List[int]:\n",
    "    \"\"\"\n",
    "    Return a sorted list of unique integers from the input list.\n",
    "    \"\"\"''',\n",
    "        \"canonical_solution\": '''def unique_sorted(items: List[int]) -> List[int]:\n",
    "    return sorted(set(items))'''\n",
    "    }\n",
    "]\n",
    "\n",
    "test_df = pd.DataFrame(data)"
   ]
  },
  {
   "cell_type": "code",
   "execution_count": 39,
   "id": "dc54bd18",
   "metadata": {},
   "outputs": [
    {
     "ename": "NameError",
     "evalue": "name 'test_df' is not defined",
     "output_type": "error",
     "traceback": [
      "\u001b[31m---------------------------------------------------------------------------\u001b[39m",
      "\u001b[31mNameError\u001b[39m                                 Traceback (most recent call last)",
      "\u001b[36mCell\u001b[39m\u001b[36m \u001b[39m\u001b[32mIn[39]\u001b[39m\u001b[32m, line 4\u001b[39m\n\u001b[32m      1\u001b[39m \u001b[38;5;28;01mfrom\u001b[39;00m\u001b[38;5;250m \u001b[39m\u001b[34;01mevaluate\u001b[39;00m\u001b[38;5;250m \u001b[39m\u001b[38;5;28;01mimport\u001b[39;00m load\n\u001b[32m      2\u001b[39m bert_score = load(\u001b[33m\"\u001b[39m\u001b[33mbertscore\u001b[39m\u001b[33m\"\u001b[39m)\n\u001b[32m----> \u001b[39m\u001b[32m4\u001b[39m \u001b[38;5;28;01mfor\u001b[39;00m example \u001b[38;5;129;01min\u001b[39;00m \u001b[38;5;28mrange\u001b[39m(\u001b[38;5;28mlen\u001b[39m(\u001b[43mtest_df\u001b[49m[\u001b[33m\"\u001b[39m\u001b[33mprompt\u001b[39m\u001b[33m\"\u001b[39m])):\n\u001b[32m      5\u001b[39m     prediction = RAG_pipeline(\u001b[32m3\u001b[39m,\u001b[38;5;28;01mFalse\u001b[39;00m,test_df[\u001b[33m\"\u001b[39m\u001b[33mprompt\u001b[39m\u001b[33m\"\u001b[39m][example])\n\u001b[32m      6\u001b[39m     evaluation = bert_score.compute(predictions=[result], references=[test_df[\u001b[33m\"\u001b[39m\u001b[33mcanonical_solution\u001b[39m\u001b[33m\"\u001b[39m][example]], lang=\u001b[33m\"\u001b[39m\u001b[33men\u001b[39m\u001b[33m\"\u001b[39m,device=\u001b[33m\"\u001b[39m\u001b[33mcuda\u001b[39m\u001b[33m\"\u001b[39m)\n",
      "\u001b[31mNameError\u001b[39m: name 'test_df' is not defined"
     ]
    }
   ],
   "source": [
    "from evaluate import load\n",
    "bert_score = load(\"bertscore\")\n",
    "\n",
    "for example in range(len(test_df[\"prompt\"])):\n",
    "    prediction = RAG_pipeline(3,False,test_df[\"prompt\"][example])\n",
    "    evaluation = bert_score.compute(predictions=[result], references=[test_df[\"canonical_solution\"][example]], lang=\"en\",device=\"cuda\")\n",
    "    print(f\"F1 score for example {example+1} = {evaluation['f1'][0]*100:.02f} %\")"
   ]
  },
  {
   "cell_type": "markdown",
   "id": "f4604c84",
   "metadata": {},
   "source": [
    "Prepare for LangGraph"
   ]
  },
  {
   "cell_type": "code",
   "execution_count": null,
   "id": "91fb596c",
   "metadata": {},
   "outputs": [],
   "source": [
    "# Define a function to explain code\n",
    "def explain_code(code):\n",
    "    API_URL = \"https://openrouter.ai/api/v1/chat/completions\"\n",
    "    headers = {\n",
    "        \"Authorization\": f\"Bearer {key}\",\n",
    "        \"Content-Type\": \"application/json\"\n",
    "    }\n",
    "    \n",
    "    prompt = f\"\"\"You are a helpful coding explination assistant.\n",
    "\n",
    "Explain the following code with no any additional text.\n",
    "\n",
    "\n",
    "[Code]\n",
    "{code}\n",
    "\n",
    "\"\"\"\n",
    "\n",
    "    data = {\n",
    "        \"model\": \"deepseek/deepseek-chat-v3-0324:free\",\n",
    "        \"messages\": [\n",
    "            {\n",
    "                \"role\": \"user\",\n",
    "                \"content\": prompt\n",
    "            }\n",
    "        ],\n",
    "        \"temperature\": 0.2,\n",
    "        \"max_tokens\": 500  \n",
    "    }\n",
    "\n",
    "    count = 0\n",
    "    while(True):\n",
    "        try:\n",
    "            count+=1\n",
    "            response = requests.post(API_URL, headers=headers, json=data)\n",
    "            return response.json()[\"choices\"][0][\"message\"][\"content\"]\n",
    "        except:\n",
    "            if(count==5):\n",
    "                break\n",
    "            print(response.json())\n",
    "\n",
    "    "
   ]
  },
  {
   "cell_type": "code",
   "execution_count": null,
   "id": "728ed867",
   "metadata": {},
   "outputs": [],
   "source": [
    "# Define a function to resume the same task\n",
    "def resume_code(history):\n",
    "    API_URL = \"https://openrouter.ai/api/v1/chat/completions\"\n",
    "    headers = {\n",
    "        \"Authorization\": f\"Bearer {key}\",\n",
    "        \"Content-Type\": \"application/json\"\n",
    "    }\n",
    "    \n",
    "    prompt = f\"\"\"You are a helpful coding assistant.\n",
    "    Use the provided chat history to continue helping the user based on the last human messages given\n",
    "\n",
    "Explain the following code with no any additional text.\n",
    "\n",
    "\n",
    "[Chat History]\n",
    "{history}\n",
    "\n",
    "\"\"\"\n",
    "\n",
    "    data = {\n",
    "        \"model\": \"deepseek/deepseek-chat-v3-0324:free\",\n",
    "        \"messages\": [\n",
    "            {\n",
    "                \"role\": \"user\",\n",
    "                \"content\": prompt\n",
    "            }\n",
    "        ],\n",
    "        \"temperature\": 0.2,\n",
    "        \"max_tokens\": 500  \n",
    "    }\n",
    "\n",
    "    \n",
    "    count = 0\n",
    "    while(True):\n",
    "        try:\n",
    "            count+=1\n",
    "            response = requests.post(API_URL, headers=headers, json=data)\n",
    "            return response.json()[\"choices\"][0][\"message\"][\"content\"]\n",
    "        except:\n",
    "            if(count==5):\n",
    "                break\n",
    "            print(response.json())\n",
    "\n",
    "    "
   ]
  },
  {
   "cell_type": "code",
   "execution_count": null,
   "id": "eafa05a2",
   "metadata": {},
   "outputs": [],
   "source": [
    "# Define a function to explain code depending on history \n",
    "def explain_code_with_history(history):\n",
    "    API_URL = \"https://openrouter.ai/api/v1/chat/completions\"\n",
    "    headers = {\n",
    "        \"Authorization\": f\"Bearer {key}\",\n",
    "        \"Content-Type\": \"application/json\"\n",
    "    }\n",
    "    \n",
    "    prompt = f\"\"\"You are a helpful coding explination assistant.\n",
    "Provided chat history for context and the last massage describes the needed task.\n",
    "Explain the code with no any additional text.\n",
    "\n",
    "\n",
    "[History]\n",
    "{history}\n",
    "\n",
    "\"\"\"\n",
    "\n",
    "    data = {\n",
    "        \"model\": \"deepseek/deepseek-chat-v3-0324:free\",\n",
    "        \"messages\": [\n",
    "            {\n",
    "                \"role\": \"user\",\n",
    "                \"content\": prompt\n",
    "            }\n",
    "        ],\n",
    "        \"temperature\": 0.2,\n",
    "        \"max_tokens\": 500  \n",
    "    }\n",
    "\n",
    "    count = 0\n",
    "    while(True):\n",
    "        try:\n",
    "            count+=1\n",
    "            response = requests.post(API_URL, headers=headers, json=data)\n",
    "            return response.json()[\"choices\"][0][\"message\"][\"content\"]\n",
    "        except:\n",
    "            if(count==5):\n",
    "                break\n",
    "            print(response.json())\n",
    "\n",
    "    "
   ]
  },
  {
   "cell_type": "markdown",
   "id": "6a5abeaa",
   "metadata": {},
   "source": [
    "### LangGraph"
   ]
  },
  {
   "cell_type": "markdown",
   "id": "a21ec824",
   "metadata": {},
   "source": [
    "First Structure - Basic"
   ]
  },
  {
   "cell_type": "code",
   "execution_count": 40,
   "id": "adcf3f95",
   "metadata": {},
   "outputs": [],
   "source": [
    "from typing import TypedDict\n",
    "from langgraph.graph import StateGraph, START, END\n",
    "\n",
    "# Define graph state class\n",
    "class modelState(TypedDict):\n",
    "    input : str\n",
    "    func : str\n",
    "    result : str\n",
    "\n",
    "# Define graph runnables\n",
    "def chat(state: modelState) -> modelState:\n",
    "    \"\"\"Function to take input from user\"\"\"\n",
    "    \n",
    "    # # Input from user\n",
    "    # state[\"func\"] = input(\"Please state whether you want to generate code or explain your code\")\n",
    "    \n",
    "    # if(\"explain\" in state[\"func\"]):\n",
    "    #     state[\"input\"] = input(\"Please enter the code you want its description\")\n",
    "    # elif(\"generate\" in state[\"func\"]):\n",
    "    #     state[\"input\"] = input(\"Please enter the code description\")\n",
    "    \n",
    "    # Input from code\n",
    "    \n",
    "    return state\n",
    "\n",
    "def router(state: modelState) -> modelState:\n",
    "    \"\"\"Function to select the next node of the graph\"\"\"\n",
    "    if(\"explain\" in state[\"func\"]):\n",
    "        return \"explain_task\"\n",
    "    elif(\"generate\" in state[\"func\"]):\n",
    "        return \"generate_task\"\n",
    "        \n",
    "def generate(state: modelState) -> modelState:\n",
    "    \"\"\"Function to generate code based on input from user using RAG model\"\"\"\n",
    "    state[\"result\"]  = RAG_pipeline(3,False,state[\"input\"])\n",
    "    return state\n",
    "\n",
    "def explain(state: modelState) -> modelState:\n",
    "    \"\"\"Function to explain code provided by the user using LLM model\"\"\"\n",
    "    state[\"result\"]  = explain_code(state[\"input\"])\n",
    "    return state\n",
    "    \n",
    "# Define graph object\n",
    "graph = StateGraph(modelState)\n",
    "\n",
    "# Define graph nodes\n",
    "graph.add_node(\"chat\",chat)\n",
    "graph.add_node(\"generate_code\",generate)\n",
    "graph.add_node(\"explain_code\",explain)\n",
    "graph.add_node(\"router\", lambda state:state)\n",
    "\n",
    "# Define graph edges\n",
    "graph.add_edge(START,\"chat\")\n",
    "graph.add_edge(\"chat\",\"router\")\n",
    "\n",
    "graph.add_conditional_edges(\n",
    "    \"router\",\n",
    "    router, \n",
    "    {\n",
    "        # Edge: Node\n",
    "        \"explain_task\": \"explain_code\",\n",
    "        \"generate_task\": \"generate_code\"\n",
    "    }\n",
    ")\n",
    "\n",
    "graph.add_edge(\"generate_code\",END)\n",
    "graph.add_edge(\"explain_code\",END)\n",
    "\n",
    "app = graph.compile()"
   ]
  },
  {
   "cell_type": "code",
   "execution_count": 41,
   "id": "bf479d81",
   "metadata": {},
   "outputs": [
    {
     "data": {
      "image/png": "[encoded data removed]",
      "text/plain": [
       "<IPython.core.display.Image object>"
      ]
     },
     "metadata": {},
     "output_type": "display_data"
    }
   ],
   "source": [
    "from IPython.display import Image, display\n",
    "display(Image(app.get_graph().draw_mermaid_png())) # Display structure"
   ]
  },
  {
   "cell_type": "code",
   "execution_count": 42,
   "id": "04f28279",
   "metadata": {},
   "outputs": [
    {
     "ename": "NameError",
     "evalue": "name 'test_df' is not defined",
     "output_type": "error",
     "traceback": [
      "\u001b[31m---------------------------------------------------------------------------\u001b[39m",
      "\u001b[31mNameError\u001b[39m                                 Traceback (most recent call last)",
      "\u001b[36mCell\u001b[39m\u001b[36m \u001b[39m\u001b[32mIn[42]\u001b[39m\u001b[32m, line 2\u001b[39m\n\u001b[32m      1\u001b[39m \u001b[38;5;66;03m# Test using custom input\u001b[39;00m\n\u001b[32m----> \u001b[39m\u001b[32m2\u001b[39m custom_input= modelState(\u001b[38;5;28minput\u001b[39m=\u001b[43mtest_df\u001b[49m[\u001b[33m\"\u001b[39m\u001b[33mprompt\u001b[39m\u001b[33m\"\u001b[39m][\u001b[32m0\u001b[39m],func=\u001b[33m\"\u001b[39m\u001b[33mI want to generate code\u001b[39m\u001b[33m\"\u001b[39m)\n\u001b[32m      4\u001b[39m \u001b[38;5;66;03m# output = app.invoke({})\u001b[39;00m\n\u001b[32m      5\u001b[39m output = app.invoke(custom_input)\n",
      "\u001b[31mNameError\u001b[39m: name 'test_df' is not defined"
     ]
    }
   ],
   "source": [
    "# Test using custom input\n",
    "custom_input= modelState(input=test_df[\"prompt\"][0],func=\"I want to generate code\")\n",
    "\n",
    "# output = app.invoke({})\n",
    "output = app.invoke(custom_input)\n",
    "print(output[\"result\"])"
   ]
  },
  {
   "cell_type": "markdown",
   "id": "ed4398c3",
   "metadata": {},
   "source": [
    "Second Structure - Using tools with manual invoke"
   ]
  },
  {
   "cell_type": "code",
   "execution_count": 43,
   "id": "c9924256",
   "metadata": {},
   "outputs": [],
   "source": [
    "from langchain_core.tools import tool\n",
    "\n",
    "# Define graph state class\n",
    "class modelState2(TypedDict):\n",
    "    input : str\n",
    "    func : str\n",
    "    result : str\n",
    "\n",
    "@tool\n",
    "def generator_tool(query: str)->str:\n",
    "    \"\"\" This tool generates code using an input query \"\"\"\n",
    "    return RAG_pipeline(3,False,query)\n",
    "\n",
    "@tool\n",
    "def explainer_tool(code: str)->str:\n",
    "    \"\"\" This tool explains code given by the user \"\"\"\n",
    "    return explain_code(code)\n",
    "\n",
    "# Define graph runnables\n",
    "def chat2(state: modelState2) -> modelState2:\n",
    "    \"\"\"Function to take input from user\"\"\"\n",
    "    \n",
    "    # # Input from user\n",
    "    # state[\"func\"] = input(\"Please state whether you want to generate code or explain your code\")\n",
    "    \n",
    "    # if(\"explain\" in state[\"func\"]):\n",
    "    #     state[\"input\"] = input(\"Please enter the code you want its description\")\n",
    "    #     state[\"result\"] = explainer_tool.invoke({\"code\" : state[\"input\"]})\n",
    "    # elif(\"generate\" in state[\"func\"]):\n",
    "    #     state[\"input\"] = input(\"Please enter the code description\")\n",
    "    #     state[\"result\"] = generator_tool.invoke({\"query\" : state[\"input\"]})\n",
    "    \n",
    "    # Input from code\n",
    "    if(\"explain\" in state[\"func\"]):\n",
    "        state[\"result\"] = explainer_tool.invoke({\"code\" : state[\"input\"]})\n",
    "    elif(\"generate\" in state[\"func\"]):\n",
    "        state[\"result\"] = generator_tool.invoke({\"query\" : state[\"input\"]})\n",
    "    return state\n",
    "    \n",
    "# Define graph object\n",
    "graph2 = StateGraph(modelState2)\n",
    "\n",
    "# Define graph nodes\n",
    "graph2.add_node(\"chat\",chat2)\n",
    "\n",
    "# Define graph edges\n",
    "graph2.add_edge(START,\"chat\")\n",
    "\n",
    "graph2.add_edge(\"chat\",END)\n",
    "\n",
    "app2 = graph2.compile()"
   ]
  },
  {
   "cell_type": "code",
   "execution_count": null,
   "id": "99355fff",
   "metadata": {},
   "outputs": [],
   "source": [
    "display(Image(app2.get_graph().draw_mermaid_png()))"
   ]
  },
  {
   "cell_type": "code",
   "execution_count": null,
   "id": "d9a22637",
   "metadata": {},
   "outputs": [],
   "source": [
    "output2 = app2.invoke(custom_input)\n",
    "print(output2[\"result\"])"
   ]
  },
  {
   "cell_type": "markdown",
   "id": "b2651ce2",
   "metadata": {},
   "source": [
    "Third Structure - Using tools with automatic invoke"
   ]
  },
  {
   "cell_type": "code",
   "execution_count": null,
   "id": "a909fee5",
   "metadata": {},
   "outputs": [],
   "source": [
    "from langchain_core.tools import tool\n",
    "from langchain_openai import ChatOpenAI\n",
    "from langchain_core.messages import SystemMessage\n",
    "\n",
    "# Define graph state class\n",
    "class modelState3(TypedDict):\n",
    "    input : str\n",
    "    func : str\n",
    "    result : str\n",
    "\n",
    "@tool\n",
    "def generator_tool3(query: str)->str:\n",
    "    \"\"\" This tool generates code using an input query \"\"\"\n",
    "    return RAG_pipeline(3,False,query)\n",
    "\n",
    "@tool\n",
    "def explainer_tool3(code: str)->str:\n",
    "    \"\"\" This tool explains code given by the user \"\"\"\n",
    "    return explain_code(code)\n",
    "\n",
    "tools = [generator_tool3,explainer_tool3]\n",
    "\n",
    "llm = ChatOpenAI(\n",
    "    model=\"gpt-3.5-turbo\",\n",
    "    api_key=\"API_KEY\"\n",
    ").bind_tools(tools)\n",
    "\n",
    "# Define graph runnables\n",
    "def chat3(state: modelState3) -> modelState3:\n",
    "    \"\"\"Function to take input from user\"\"\"\n",
    "    \n",
    "    # # Input from user\n",
    "    # state[\"func\"] = input(\"Please state whether you want to generate code or explain your code\")\n",
    "    \n",
    "    # if(\"explain\" in state[\"func\"]):\n",
    "    #     state[\"input\"] = input(\"Please enter the code you want its description\")\n",
    "    # elif(\"generate\" in state[\"func\"]):\n",
    "    #     state[\"input\"] = input(\"Please enter the code description\")\n",
    "    \n",
    "    # Input from code\n",
    "    \n",
    "    prompt = (f\"\"\"\n",
    "    You are a code generator or code explainer.\n",
    "    - 'generator_tool3' tool with the complete description provided to generate code.\n",
    "    - 'explainer_tool3' tool with the complete code given to explain code.\n",
    "    \n",
    "    The current user prompt is:{state[\"input\"]}\n",
    "    \"\"\")\n",
    "    response = llm.invoke(prompt)\n",
    "    state[\"result\"] = response.content\n",
    "    print(f\"\\n🤖 AI: {response.content}\")\n",
    "# Define graph object\n",
    "graph3 = StateGraph(modelState3)\n",
    "\n",
    "# Define graph nodes\n",
    "graph3.add_node(\"chat\",chat3)\n",
    "\n",
    "# Define graph edges\n",
    "graph3.add_edge(START,\"chat\")\n",
    "\n",
    "graph3.add_edge(\"chat\",END)\n",
    "\n",
    "app3 = graph3.compile()"
   ]
  },
  {
   "cell_type": "code",
   "execution_count": null,
   "id": "fa02d938",
   "metadata": {},
   "outputs": [],
   "source": [
    "display(Image(app3.get_graph().draw_mermaid_png()))"
   ]
  },
  {
   "cell_type": "code",
   "execution_count": null,
   "id": "ead35973",
   "metadata": {},
   "outputs": [],
   "source": [
    "custom_input= modelState3(input=test_df[\"prompt\"][0],func=\"I want to generate code\")\n",
    "app3.invoke(custom_input)"
   ]
  },
  {
   "cell_type": "markdown",
   "id": "e31dd97c",
   "metadata": {},
   "source": [
    "Fourth Structure - Using Resume node to handle extended tasks with history"
   ]
  },
  {
   "cell_type": "code",
   "execution_count": 45,
   "id": "91b990e2",
   "metadata": {},
   "outputs": [],
   "source": [
    "from langchain_core.messages import HumanMessage, AIMessage\n",
    "from typing import List, Union\n",
    "\n",
    "# Define graph state class\n",
    "class modelState(TypedDict):\n",
    "    messages : List[Union[HumanMessage, AIMessage]]\n",
    "\n",
    "# Define graph runnables\n",
    "def chat(state: modelState) -> modelState:\n",
    "    \"\"\"Function to take input from user\"\"\"\n",
    "    \n",
    "    # # Input from user\n",
    "    \n",
    "    \n",
    "    # state[\"func\"] = input(\"Please state whether you want to generate code or explain your code\")\n",
    "    \n",
    "    # if(\"explain\" in state[\"func\"]):\n",
    "    #     input = input(\"Please enter the code you want its description\")\n",
    "    #     state[\"messages\"].append(HumanMessage(content=input))\n",
    "    # elif(\"generate\" in state[\"func\"]):\n",
    "    #     input = input(\"Please enter the code description\")\n",
    "    #     state[\"messages\"].append(HumanMessage(content=input))\n",
    "    \n",
    "    # Input from code\n",
    "    \n",
    "    return state\n",
    "\n",
    "def router(state: modelState) -> modelState:\n",
    "    \"\"\"Function to select the next node of the graph\"\"\"\n",
    "    if(\"explain\" in state['messages'][-1].content):\n",
    "        return \"explain_task\"\n",
    "    elif(\"generate\" in state['messages'][-1].content):\n",
    "        return \"generate_task\"\n",
    "    else:\n",
    "        return \"resume_task\"\n",
    "        \n",
    "def generate(state: modelState) -> modelState:\n",
    "    \"\"\"Function to generate code based on input from user using RAG model\"\"\"\n",
    "    print(f\"\\nHuman: {state['messages'][-1].content}\")\n",
    "    state[\"messages\"].append(AIMessage(content=RAG_pipeline(3,False,str(state['messages'][-1]))))\n",
    "    print(f\"\\nAI: {state['messages'][-1].content}\")\n",
    "    return state\n",
    "\n",
    "def explain(state: modelState) -> modelState:\n",
    "    \"\"\"Function to explain code provided by the user using LLM model\"\"\"\n",
    "    print(f\"\\nHuman: {state['messages'][-1].content}\")\n",
    "    state[\"messages\"].append(AIMessage(content=explain_code_with_history(state['messages'])))\n",
    "    print(f\"\\nAI: {state['messages'][-1].content}\")\n",
    "    return state\n",
    "\n",
    "def resume(state: modelState) -> modelState:\n",
    "    \"\"\"Function to resume the same task provided by the user\"\"\"\n",
    "    print(f\"\\nHuman: {state['messages'][-1].content}\")\n",
    "    state['messages'].append(AIMessage(content=resume_code(state['messages'])))\n",
    "    print(f\"\\nAI: {state['messages'][-1].content}\")\n",
    "    return state\n",
    "# Define graph object\n",
    "graph = StateGraph(modelState)\n",
    "\n",
    "# Define graph nodes\n",
    "graph.add_node(\"chat\",chat)\n",
    "graph.add_node(\"generate_code\",generate)\n",
    "graph.add_node(\"explain_code\",explain)\n",
    "graph.add_node(\"resume_code\",resume)\n",
    "graph.add_node(\"router\", lambda state:state)\n",
    "\n",
    "# Define graph edges\n",
    "graph.add_edge(START,\"chat\")\n",
    "graph.add_edge(\"chat\",\"router\")\n",
    "\n",
    "graph.add_conditional_edges(\n",
    "    \"router\",\n",
    "    router, \n",
    "    {\n",
    "        # Edge: Node\n",
    "        \"explain_task\": \"explain_code\",\n",
    "        \"generate_task\": \"generate_code\",\n",
    "        \"resume_task\": \"resume_code\"\n",
    "    }\n",
    ")\n",
    "\n",
    "graph.add_edge(\"generate_code\",END)\n",
    "graph.add_edge(\"explain_code\",END)\n",
    "graph.add_edge(\"resume_code\",END)\n",
    "\n",
    "app4 = graph.compile()"
   ]
  },
  {
   "cell_type": "code",
   "execution_count": null,
   "id": "4ead6b8f",
   "metadata": {},
   "outputs": [],
   "source": [
    "display(Image(app4.get_graph().draw_mermaid_png()))"
   ]
  },
  {
   "cell_type": "code",
   "execution_count": null,
   "id": "fa19d777",
   "metadata": {},
   "outputs": [],
   "source": [
    "conversation_history : List[Union[HumanMessage, AIMessage]] = []\n",
    "\n",
    "\n",
    "user_input = test_df[\"prompt\"][0] # Custom initial input\n",
    "while user_input != \"exit\": # Maintain a loop that interacts with the user naturally\n",
    "    conversation_history.append(HumanMessage(content=user_input))\n",
    "    output = app4.invoke(modelState(messages=conversation_history))\n",
    "    conversation_history = output[\"messages\"]\n",
    "    user_input = input(\"Enter: \")\n",
    "\n",
    "# Save output in log file\n",
    "with open(\"logging.text\",'w') as file:\n",
    "    file.write(\"Conversation Log:\\n\")\n",
    "    for message in conversation_history:\n",
    "        if isinstance(message,HumanMessage):\n",
    "            file.write(f\"You: {message.content}\\n\")\n",
    "        elif isinstance(message, AIMessage):\n",
    "            file.write(f\"AI: {message.content}\\n\\n\")\n",
    "    file.write(\"End of Conversation\")"
   ]
  },
  {
   "cell_type": "markdown",
   "id": "2996e887",
   "metadata": {},
   "source": [
    "Smart Routing"
   ]
  },
  {
   "cell_type": "code",
   "execution_count": 46,
   "id": "9fd3c697",
   "metadata": {},
   "outputs": [],
   "source": [
    "def smartRouter(history):\n",
    "# Define a function to smart route the langGraph depending on history \n",
    "    API_URL = \"https://openrouter.ai/api/v1/chat/completions\"\n",
    "    headers = {\n",
    "        \"Authorization\": f\"Bearer {key}\",\n",
    "        \"Content-Type\": \"application/json\"\n",
    "    }\n",
    "    \n",
    "# Provide just the task and user input in the following json format {'task : task,  user_input : user_input'}\".\n",
    "    # print(\"Router:\")\n",
    "    # print(history)\n",
    "    hist = \"\"\n",
    "    for i,message in enumerate(history):\n",
    "        try:\n",
    "            if(i%2==0):\n",
    "                hist = hist + \"Human: \" + message.content + '\\n'\n",
    "            else:\n",
    "                hist = hist + \"AI: \" + message.content + '\\n'\n",
    "        except:\n",
    "             hist = hist + message + '\\n'\n",
    "            \n",
    "            \n",
    "    prompt = f\"\"\"\n",
    "You are a smart router to decide the next task based on user prompt.\n",
    "You are provided with conversation history, use the last Human message to identify the needed task and the history for context.\n",
    "\n",
    "Your job is to classify the following user input as one of the following 3 tasks:\n",
    "- **generate code**\n",
    "- **explain code**\n",
    "- **resume conversation**\n",
    "\n",
    "Rules:\n",
    "- If the user provides a **code description**, or a **partial/incomplete code** (e.g., missing function body, TODOs, comments like \"please complete\"), classify it as **generate code**.\n",
    "- If the user provides a **complete piece of code** and is asking to understand or describe it, classify it as **explain code**.\n",
    "- If the user does not ask a new question but refers to a **previous conversation**, classify it as **resume conversation**.\n",
    "\n",
    "Respond only with one of the following **three exact outputs**:\n",
    "generate code, explain code, or resume conversation.\n",
    "### Examples:\n",
    "\n",
    "[Prompt]\n",
    "\\\"\"\"Write a function that checks if a number is prime.\\\"\"\"\n",
    "→ generate code\n",
    "\n",
    "[Prompt]\n",
    "\\\"\"\"def is_prime(n):\\n    # complete this function\\n    \\\"\"\"\n",
    "→ generate code\n",
    "\n",
    "[Prompt]\n",
    "\\\"\"\"Can you explain how this sorting function works?\\n\\ndef bubble_sort(arr): ...\\\"\"\"\n",
    "→ explain code\n",
    "\n",
    "[Prompt]\n",
    "\\\"\"\"Let's continue from the last thing we talked about regarding optimization.\\\"\"\"\n",
    "→ resume conversation\n",
    "\n",
    "[Prompt]\n",
    "\\\"\"\"do something with things you wrote before.\\\"\"\"\n",
    "→ resume conversation\n",
    "\n",
    "Now classify this:\n",
    "\n",
    "[History]\n",
    "{hist}\n",
    "\n",
    "\"\"\"\n",
    "    # print(prompt)\n",
    "\n",
    "    data = {\n",
    "        \"model\": \"deepseek/deepseek-chat-v3-0324:free\",\n",
    "        \"messages\": [\n",
    "            {\n",
    "                \"role\": \"user\",\n",
    "                \"content\": prompt\n",
    "            }\n",
    "        ],\n",
    "        \"temperature\": 0.2,\n",
    "        \"max_tokens\": 500  \n",
    "    }\n",
    "\n",
    "    count = 0\n",
    "    while(True):\n",
    "        try:\n",
    "            count+=1\n",
    "            response = requests.post(API_URL, headers=headers, json=data)\n",
    "            # print(response.json())\n",
    "            return response.json()[\"choices\"][0][\"message\"][\"content\"]\n",
    "        except:\n",
    "            if(count==5):\n",
    "                break\n",
    "            print(response.json())\n",
    "\n",
    "    "
   ]
  },
  {
   "cell_type": "code",
   "execution_count": 47,
   "id": "abaa12bd",
   "metadata": {},
   "outputs": [
    {
     "name": "stdout",
     "output_type": "stream",
     "text": [
      "generate code\n",
      "resume conversation\n"
     ]
    }
   ],
   "source": [
    "prompt = \"\"\"from typing import List\n",
    "\n",
    "Complete this function\n",
    "\n",
    "def has_close_elements(numbers: List[float], threshold: float) -> bool:\n",
    "    \"\" Check if in given list of numbers, are any two numbers closer to each other than\n",
    "    given threshold.\n",
    "    >>> has_close_elements([1.0, 2.0, 3.0], 0.5)\n",
    "    False\n",
    "    >>> has_close_elements([1.0, 2.8, 3.0, 4.0, 5.0, 2.0], 0.3)\n",
    "    True\n",
    "    \"\"\n",
    "\"\"\"\n",
    "print(smartRouter(prompt))\n",
    "print(smartRouter(\"modify the function you just wrote\"))"
   ]
  },
  {
   "cell_type": "code",
   "execution_count": 48,
   "id": "a1b3f8f9",
   "metadata": {},
   "outputs": [],
   "source": [
    "from langchain_core.messages import HumanMessage, AIMessage\n",
    "from typing import List, Union\n",
    "\n",
    "# Define graph state class\n",
    "class modelState(TypedDict):\n",
    "    messages : List[Union[HumanMessage, AIMessage]]\n",
    "\n",
    "# Define graph runnables\n",
    "def chat(state: modelState) -> modelState:\n",
    "    \"\"\"Function to take input from user\"\"\"\n",
    "    \n",
    "    # # Input from user\n",
    "    \n",
    "    \n",
    "    # state[\"func\"] = input(\"Please state whether you want to generate code or explain your code\")\n",
    "    \n",
    "    # if(\"explain\" in state[\"func\"]):\n",
    "    #     input = input(\"Please enter the code you want its description\")\n",
    "    #     state[\"messages\"].append(HumanMessage(content=input))\n",
    "    # elif(\"generate\" in state[\"func\"]):\n",
    "    #     input = input(\"Please enter the code description\")\n",
    "    #     state[\"messages\"].append(HumanMessage(content=input))\n",
    "    \n",
    "    # Input from code\n",
    "    \n",
    "    return state\n",
    "\n",
    "def smartrouter(state: modelState) -> modelState:\n",
    "    \"\"\"Function to select the next node of the graph\"\"\"\n",
    "    # print(\"Graph:\")\n",
    "    # print(state[\"messages\"])\n",
    "    result = smartRouter(state[\"messages\"])\n",
    "    # print(state)\n",
    "    # print(f\"Task needed: {result}\")\n",
    "    if result == \"explain code\":\n",
    "        return \"explain_code\"\n",
    "    elif result == \"generate code\":\n",
    "        return \"generate_code\"\n",
    "    elif result == \"resume conversation\":\n",
    "        return \"resume_code\"\n",
    "    \n",
    "        \n",
    "def generate(state: modelState) -> modelState:\n",
    "    \"\"\"Function to generate code based on input from user using RAG model\"\"\"\n",
    "    print(f\"\\nHuman: {state['messages'][-1].content}\")\n",
    "    state[\"messages\"].append(AIMessage(content=RAG_pipeline(3,False,str(state['messages'][-1]))))\n",
    "    print(f\"\\nAI: {state['messages'][-1].content}\")\n",
    "    # print(\"generate\")\n",
    "    return state\n",
    "\n",
    "def explain(state: modelState) -> modelState:\n",
    "    \"\"\"Function to explain code provided by the user using LLM model\"\"\"\n",
    "    print(f\"\\nHuman: {state['messages'][-1].content}\")\n",
    "    state[\"messages\"].append(AIMessage(content=explain_code_with_history(state['messages'])))\n",
    "    print(f\"\\nAI: {state['messages'][-1].content}\")\n",
    "    # print(\"explain\")\n",
    "    return state\n",
    "\n",
    "def resume(state: modelState) -> modelState:\n",
    "    \"\"\"Function to resume the same task provided by the user\"\"\"\n",
    "    print(f\"\\nHuman: {state['messages'][-1].content}\")\n",
    "    state['messages'].append(AIMessage(content=resume_code(state['messages'])))\n",
    "    print(f\"\\nAI: {state['messages'][-1].content}\")\n",
    "    # print(\"resume\")\n",
    "    return state\n",
    "# Define graph object\n",
    "graph = StateGraph(modelState)\n",
    "\n",
    "# Define graph nodes\n",
    "graph.add_node(\"chat\",chat)\n",
    "graph.add_node(\"generate_code\",generate)\n",
    "graph.add_node(\"explain_code\",explain)\n",
    "graph.add_node(\"resume_code\",resume)\n",
    "graph.add_node(\"router\", lambda state: state)\n",
    "\n",
    "# Define graph edges\n",
    "graph.add_edge(START,\"chat\")\n",
    "graph.add_edge(\"chat\", \"router\")\n",
    "\n",
    "graph.add_conditional_edges(\n",
    "    \"router\", \n",
    "    smartrouter, \n",
    "{\n",
    "    \"explain_code\": \"explain_code\",\n",
    "    \"generate_code\": \"generate_code\",\n",
    "    \"resume_code\": \"resume_code\"\n",
    "})\n",
    "\n",
    "graph.add_edge(\"generate_code\",END)\n",
    "graph.add_edge(\"explain_code\",END)\n",
    "graph.add_edge(\"resume_code\",END)\n",
    "\n",
    "app5 = graph.compile()"
   ]
  },
  {
   "cell_type": "code",
   "execution_count": 49,
   "id": "77507e9d",
   "metadata": {},
   "outputs": [
    {
     "data": {
      "image/png": "[encoded data removed]",
      "text/plain": [
       "<IPython.core.display.Image object>"
      ]
     },
     "metadata": {},
     "output_type": "display_data"
    }
   ],
   "source": [
    "display(Image(app5.get_graph().draw_mermaid_png()))"
   ]
  },
  {
   "cell_type": "code",
   "execution_count": null,
   "id": "138e3174",
   "metadata": {},
   "outputs": [],
   "source": [
    "conversation_history : List[Union[HumanMessage, AIMessage]] = []\n",
    "\n",
    "\n",
    "user_input = test_df[\"prompt\"][0] # Custom initial input\n",
    "while user_input != \"exit\": # Maintain a loop that interacts with the user naturally\n",
    "    conversation_history.append(HumanMessage(content=user_input))\n",
    "    output = app5.invoke(modelState(messages=conversation_history))\n",
    "    conversation_history = output[\"messages\"]\n",
    "    user_input = input(\"Enter: \")\n",
    "\n",
    "# Save output in log file\n",
    "with open(\"logging.text\",'w') as file:\n",
    "    file.write(\"Conversation Log:\\n\")\n",
    "    for message in conversation_history:\n",
    "        if isinstance(message,HumanMessage):\n",
    "            file.write(f\"You: {message.content}\\n\")\n",
    "        elif isinstance(message, AIMessage):\n",
    "            file.write(f\"AI: {message.content}\\n\\n\")\n",
    "    file.write(\"End of Conversation\")"
   ]
  },
  {
   "cell_type": "markdown",
   "id": "ae372376",
   "metadata": {},
   "source": [
    "Deployment with Gradio"
   ]
  },
  {
   "cell_type": "code",
   "execution_count": null,
   "id": "0a3cf014",
   "metadata": {},
   "outputs": [
    {
     "name": "stderr",
     "output_type": "stream",
     "text": [
      "C:\\Users\\Dell\\AppData\\Local\\Temp\\ipykernel_9324\\2708235937.py:26: UserWarning: You have not specified a value for the `type` parameter. Defaulting to the 'tuples' format for chatbot messages, but this is deprecated and will be removed in a future version of Gradio. Please set type='messages' instead, which uses openai-style dictionaries with 'role' and 'content' keys.\n",
      "  chatbot = gr.Chatbot()\n"
     ]
    },
    {
     "name": "stdout",
     "output_type": "stream",
     "text": [
      "* Running on local URL:  http://127.0.0.1:7868\n",
      "* To create a public link, set `share=True` in `launch()`.\n"
     ]
    },
    {
     "data": {
      "text/html": [
       "<div><iframe src=\"http://127.0.0.1:7868/\" width=\"100%\" height=\"500\" allow=\"autoplay; camera; microphone; clipboard-read; clipboard-write;\" frameborder=\"0\" allowfullscreen></iframe></div>"
      ],
      "text/plain": [
       "<IPython.core.display.HTML object>"
      ]
     },
     "metadata": {},
     "output_type": "display_data"
    },
    {
     "data": {
      "text/plain": []
     },
     "execution_count": 77,
     "metadata": {},
     "output_type": "execute_result"
    },
    {
     "name": "stdout",
     "output_type": "stream",
     "text": [
      "{'error': {'message': 'Provider returned error', 'code': 524, 'metadata': {'raw': 'error code: 524', 'provider_name': 'Targon'}}, 'user_id': 'user_30CBUFyjisNwIyE97GpqwEuu3jU'}\n",
      "\n",
      "Human: generate a function that prints even numbers only\n"
     ]
    },
    {
     "name": "stderr",
     "output_type": "stream",
     "text": [
      "c:\\Users\\Dell\\AppData\\Local\\Programs\\Python\\Python311\\Lib\\site-packages\\torch\\nn\\modules\\module.py:1747: FutureWarning: `encoder_attention_mask` is deprecated and will be removed in version 4.55.0 for `BertSdpaSelfAttention.forward`.\n",
      "  return forward_call(*args, **kwargs)\n"
     ]
    },
    {
     "name": "stdout",
     "output_type": "stream",
     "text": [
      "\n",
      "AI: ```python\n",
      "def print_even_numbers(numbers):\n",
      "    for num in numbers:\n",
      "        if num % 2 == 0:\n",
      "            print(num)\n",
      "```\n",
      "\n",
      "Human: in the function you wrote, print omar at its end\n",
      "\n",
      "AI: ```python\n",
      "def print_even_numbers(numbers):\n",
      "    for num in numbers:\n",
      "        if num % 2 == 0:\n",
      "            print(num)\n",
      "    print(\"omar\")\n",
      "```\n"
     ]
    }
   ],
   "source": [
    "import gradio as gr\n",
    "\n",
    "langchain_history = []\n",
    "\n",
    "def respond(message, chat_history):\n",
    "    \n",
    "    # Append latest user message\n",
    "    langchain_history.append(HumanMessage(content=message))\n",
    "\n",
    "    # Prepare input for LangGraph\n",
    "    state_input = modelState(messages = langchain_history)\n",
    "\n",
    "    # Invoke LangGraph app\n",
    "    result = app5.invoke(state_input)\n",
    "\n",
    "    # Get latest AI message\n",
    "    response = result[\"messages\"][-1].content\n",
    "\n",
    "    # Add to Gradio-friendly chat history\n",
    "    chat_history.append((message, response))\n",
    "\n",
    "    return \"\", chat_history\n",
    "\n",
    "with gr.Blocks() as interface:\n",
    "    chatbot = gr.Chatbot()\n",
    "    msg = gr.Textbox()\n",
    "    clear = gr.Button(\"Clear\")\n",
    "\n",
    "    state = gr.State([])\n",
    "\n",
    "    msg.submit(respond, [msg, state], [msg, chatbot])\n",
    "    clear.click(lambda: None, None, chatbot)\n",
    "\n",
    "interface.launch()\n"
   ]
  },
  {
   "cell_type": "markdown",
   "id": "8cf0340a",
   "metadata": {},
   "source": [
    "RAG Evaluation on MBPP Examples"
   ]
  },
  {
   "cell_type": "code",
   "execution_count": null,
   "id": "26a4dd5f",
   "metadata": {},
   "outputs": [
    {
     "name": "stdout",
     "output_type": "stream",
     "text": [
      "   task_id                                               text  \\\n",
      "0        1  Write a function to find the minimum cost path...   \n",
      "1        2  Write a function to find the similar elements ...   \n",
      "2        3  Write a python function to identify non-prime ...   \n",
      "3        4  Write a function to find the largest integers ...   \n",
      "4        5  Write a function to find the number of ways to...   \n",
      "\n",
      "                                                code  \\\n",
      "0  R = 3\\r\\nC = 3\\r\\ndef min_cost(cost, m, n): \\r...   \n",
      "1  def similar_elements(test_tup1, test_tup2):\\r\\...   \n",
      "2  import math\\r\\ndef is_not_prime(n):\\r\\n    res...   \n",
      "3  import heapq as hq\\r\\ndef heap_queue_largest(n...   \n",
      "4  def count_ways(n): \\r\\n\\tA = [0] * (n + 1) \\r\\...   \n",
      "\n",
      "                                           test_list  \n",
      "0  [assert min_cost([[1, 2, 3], [4, 8, 2], [1, 5,...  \n",
      "1  [assert similar_elements((3, 4, 5, 6),(5, 7, 4...  \n",
      "2  [assert is_not_prime(2) == False, assert is_no...  \n",
      "3  [assert heap_queue_largest( [25, 35, 22, 85, 1...  \n",
      "4  [assert count_ways(2) == 3, assert count_ways(...  \n"
     ]
    }
   ],
   "source": [
    "# Use the [MBPP dataset](10 examples)\n",
    "# Each has: `task_id`, `prompt`, `code_solution`, and test cases.\n",
    "\n",
    "mbpp_df = pd.read_json(\"mbpp.jsonl\", lines=True)[0:10][[\"task_id\",\"text\",\"code\",\"test_list\"]]\n",
    "\n",
    "print(mbpp_df.head())"
   ]
  },
  {
   "cell_type": "code",
   "execution_count": null,
   "id": "1c0abebc",
   "metadata": {},
   "outputs": [
    {
     "name": "stderr",
     "output_type": "stream",
     "text": [
      "c:\\Users\\Dell\\AppData\\Local\\Programs\\Python\\Python311\\Lib\\site-packages\\torch\\nn\\modules\\module.py:1747: FutureWarning: `encoder_attention_mask` is deprecated and will be removed in version 4.55.0 for `BertSdpaSelfAttention.forward`.\n",
      "  return forward_call(*args, **kwargs)\n"
     ]
    },
    {
     "name": "stdout",
     "output_type": "stream",
     "text": [
      "{'error': {'message': 'Internal Server Error', 'code': 500}}\n",
      "{'error': {'message': 'Provider returned error', 'code': 429, 'metadata': {'raw': 'deepseek/deepseek-chat-v3-0324:free is temporarily rate-limited upstream. Please retry shortly, or add your own key to accumulate your rate limits: https://openrouter.ai/settings/integrations', 'provider_name': 'Chutes'}}, 'user_id': 'user_309iKOus8YmjhceykAPZmSHCmx7'}\n"
     ]
    }
   ],
   "source": [
    "# For each prompt:\n",
    "# - Retrieve similar examples using embedding similarity\n",
    "# - Feed to the LLM for completion (RAG style).\n",
    "\n",
    "solutions = []\n",
    "for p in mbpp_df[\"text\"].tolist():\n",
    "    r = RAG_pipeline(3,False,p)\n",
    "    solutions.append(r)"
   ]
  },
  {
   "cell_type": "code",
   "execution_count": null,
   "id": "cc6e086d",
   "metadata": {},
   "outputs": [
    {
     "name": "stderr",
     "output_type": "stream",
     "text": [
      "Some weights of RobertaModel were not initialized from the model checkpoint at roberta-large and are newly initialized: ['pooler.dense.bias', 'pooler.dense.weight']\n",
      "You should probably TRAIN this model on a down-stream task to be able to use it for predictions and inference.\n",
      "c:\\Users\\Dell\\AppData\\Local\\Programs\\Python\\Python311\\Lib\\site-packages\\torch\\nn\\modules\\module.py:1747: FutureWarning: `encoder_attention_mask` is deprecated and will be removed in version 4.55.0 for `RobertaSdpaSelfAttention.forward`.\n",
      "  return forward_call(*args, **kwargs)\n"
     ]
    },
    {
     "name": "stdout",
     "output_type": "stream",
     "text": [
      "F1 score for example 1 = 87.66 %\n",
      "F1 score for example 2 = 85.54 %\n",
      "F1 score for example 3 = 93.19 %\n",
      "F1 score for example 4 = 90.30 %\n",
      "F1 score for example 5 = 86.02 %\n",
      "F1 score for example 6 = 88.43 %\n",
      "F1 score for example 7 = 93.44 %\n",
      "F1 score for example 8 = 88.55 %\n",
      "F1 score for example 9 = 93.38 %\n",
      "F1 score for example 10 = 85.95 %\n"
     ]
    }
   ],
   "source": [
    "# Measure Retrieval quality using F1 score\n",
    "for example in range(len(solutions)):\n",
    "    evaluation = bert_score.compute(predictions=[solutions[example]], references=[mbpp_df[\"code\"][example]], lang=\"en\",device=\"cuda\")\n",
    "    print(f\"F1 score for example {example+1} = {evaluation['f1'][0]*100:.02f} %\")"
   ]
  },
  {
   "cell_type": "code",
   "execution_count": null,
   "id": "ad3cb624",
   "metadata": {},
   "outputs": [],
   "source": [
    "# Rename functions to make them match\n",
    "import re\n",
    "names_replaces =[\n",
    "    [\"minPathCost\",\"min_cost\"],\n",
    "    [\"find_similar_elements\",\"similar_elements\"],\n",
    "    [\"is_non_prime\",\"is_not_prime\"],\n",
    "    [\"heap_queue_largest_numbers\",\"heap_queue_largest\"],\n",
    "    [\"domino_tiling\",\"count_ways\"],\n",
    "    [\"differ_at_one_bit\",\"differ_At_One_Bit_Pos\"],\n",
    "    [\"find_long_words\",\"find_char_long\"],\n",
    "    [\"square_list\",\"square_nums\"],\n",
    "    [\"min_rotations\",\"find_Rotations\"],\n",
    "    [\"n_smallest\",\"small_nnum\"],\n",
    "]\n",
    "for i,names in enumerate(names_replaces):\n",
    "    solutions[i] = re.sub(names[0],names[1],solutions[i])\n",
    "\n",
    "# remove markdown formatting \n",
    "solutions = [s.replace(\"```python\", \"\").replace(\"```\", \"\").strip() for s in solutions]"
   ]
  },
  {
   "cell_type": "code",
   "execution_count": null,
   "id": "75d96bfc",
   "metadata": {},
   "outputs": [],
   "source": [
    "# Execute the functions generated\n",
    "for solution in solutions:\n",
    "    exec(solution)"
   ]
  },
  {
   "cell_type": "code",
   "execution_count": null,
   "id": "ab770329",
   "metadata": {},
   "outputs": [
    {
     "name": "stdout",
     "output_type": "stream",
     "text": [
      "❌ Function 1 failed an assertion in test 1\n",
      "❌ Function 1 failed an assertion in test 2\n",
      "❌ Function 1 failed an assertion in test 3\n",
      "❌ Function 2 failed an assertion in test 1\n",
      "❌ Function 2 failed an assertion in test 2\n",
      "❌ Function 2 failed an assertion in test 3\n",
      "✅ Function 2 passed all tests\n",
      "✅ Function 3 passed all tests\n",
      "✅ Function 4 passed all tests\n",
      "✅ Function 5 passed all tests\n",
      "✅ Function 6 passed all tests\n",
      "✅ Function 7 passed all tests\n",
      "✅ Function 8 passed all tests\n",
      "✅ Function 9 passed all tests\n"
     ]
    }
   ],
   "source": [
    "# Measure Pass/Fail on test cases\n",
    "for i,tests in enumerate(mbpp_df[\"test_list\"]):\n",
    "    failed = False\n",
    "    \n",
    "    for j, test in enumerate(tests):\n",
    "        try:\n",
    "            exec(test)\n",
    "        except AssertionError:\n",
    "            print(f\"❌ Function {i+1} failed an assertion in test {j+1}\")\n",
    "            failed = True\n",
    "    if(failed==False):\n",
    "        print(f\"✅ Function {i} passed all tests\")\n",
    "        "
   ]
  },
  {
   "cell_type": "code",
   "execution_count": null,
   "id": "ce5ea9eb",
   "metadata": {},
   "outputs": [
    {
     "name": "stdout",
     "output_type": "stream",
     "text": [
      "def min_cost(cost, m, n):\n",
      "    rows = len(cost)\n",
      "    cols = len(cost[0]) if rows > 0 else 0\n",
      "    \n",
      "    dp = [[0 for _ in range(cols)] for _ in range(rows)]\n",
      "    dp[0][0] = cost[0][0]\n",
      "    \n",
      "    for i in range(1, rows):\n",
      "        dp[i][0] = dp[i-1][0] + cost[i][0]\n",
      "    \n",
      "    for j in range(1, cols):\n",
      "        dp[0][j] = dp[0][j-1] + cost[0][j]\n",
      "    \n",
      "    for i in range(1, rows):\n",
      "        for j in range(1, cols):\n",
      "            dp[i][j] = min(dp[i-1][j], dp[i][j-1]) + cost[i][j]\n",
      "    \n",
      "    return dp[m][n]\n",
      "R = 3\n",
      "C = 3\n",
      "def min_cost(cost, m, n): \n",
      "\ttc = [[0 for x in range(C)] for x in range(R)] \n",
      "\ttc[0][0] = cost[0][0] \n",
      "\tfor i in range(1, m+1): \n",
      "\t\ttc[i][0] = tc[i-1][0] + cost[i][0] \n",
      "\tfor j in range(1, n+1): \n",
      "\t\ttc[0][j] = tc[0][j-1] + cost[0][j] \n",
      "\tfor i in range(1, m+1): \n",
      "\t\tfor j in range(1, n+1): \n",
      "\t\t\ttc[i][j] = min(tc[i-1][j-1], tc[i-1][j], tc[i][j-1]) + cost[i][j] \n",
      "\treturn tc[m][n]\n",
      "def similar_elements(t1: tuple, t2: tuple) -> list:\n",
      "    ret = set()\n",
      "    for e1 in t1:\n",
      "        for e2 in t2:\n",
      "            if e1 == e2:\n",
      "                ret.add(e1)\n",
      "    return sorted(list(ret))\n",
      "def similar_elements(test_tup1, test_tup2):\n",
      "  res = tuple(set(test_tup1) & set(test_tup2))\n",
      "  return (res) \n"
     ]
    }
   ],
   "source": [
    "# Examine Failed Functions\n",
    "print(solutions[0])\n",
    "print(mbpp_df[\"code\"][0])\n",
    "# Generated function restricts diagonal moves but original function allows them\n",
    "\n",
    "print(solutions[1])\n",
    "print(mbpp_df[\"code\"][1])\n",
    "# Generated function restricts cares about order but original function doesn't order the output"
   ]
  },
  {
   "cell_type": "code",
   "execution_count": null,
   "id": "ab96d290",
   "metadata": {},
   "outputs": [],
   "source": []
  }
 ],
 "metadata": {
  "kernelspec": {
   "display_name": "Python 3",
   "language": "python",
   "name": "python3"
  },
  "language_info": {
   "codemirror_mode": {
    "name": "ipython",
    "version": 3
   },
   "file_extension": ".py",
   "mimetype": "text/x-python",
   "name": "python",
   "nbconvert_exporter": "python",
   "pygments_lexer": "ipython3",
   "version": "3.11.7"
  }
 },
 "nbformat": 4,
 "nbformat_minor": 5
}
